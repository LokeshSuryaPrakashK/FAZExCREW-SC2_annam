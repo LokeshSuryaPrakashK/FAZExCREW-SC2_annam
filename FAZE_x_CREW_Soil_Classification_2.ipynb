{
  "nbformat": 4,
  "nbformat_minor": 0,
  "metadata": {
    "colab": {
      "provenance": [],
      "gpuType": "T4"
    },
    "kernelspec": {
      "name": "python3",
      "display_name": "Python 3"
    },
    "language_info": {
      "name": "python"
    },
    "accelerator": "GPU"
  },
  "cells": [
    {
      "cell_type": "code",
      "source": [
        "import os\n",
        "import pandas as pd\n",
        "import numpy as np\n",
        "import matplotlib.pyplot as plt\n",
        "import seaborn as sns\n",
        "from PIL import Image\n",
        "import warnings\n",
        "warnings.filterwarnings('ignore')\n",
        "\n",
        "# Deep Learning Libraries\n",
        "import torch\n",
        "import torch.nn as nn\n",
        "import torch.optim as optim\n",
        "from torch.utils.data import Dataset, DataLoader\n",
        "import torchvision.transforms as transforms\n",
        "import torchvision.models as models\n",
        "from sklearn.model_selection import train_test_split\n",
        "from sklearn.metrics import classification_report, confusion_matrix, f1_score\n",
        "from tqdm import tqdm"
      ],
      "metadata": {
        "id": "UQpjRRkwA_Ni"
      },
      "execution_count": 13,
      "outputs": []
    },
    {
      "cell_type": "code",
      "source": [
        "from google.colab import drive\n",
        "drive.mount('/content/drive')"
      ],
      "metadata": {
        "colab": {
          "base_uri": "https://localhost:8080/"
        },
        "id": "NC1HW69gBJuR",
        "outputId": "91f04e1a-e3b7-484d-a7ec-f5048671863e"
      },
      "execution_count": 2,
      "outputs": [
        {
          "output_type": "stream",
          "name": "stdout",
          "text": [
            "Mounted at /content/drive\n"
          ]
        }
      ]
    },
    {
      "cell_type": "code",
      "source": [
        "# Set random seeds for reproducibility\n",
        "np.random.seed(42)\n",
        "torch.manual_seed(42)\n",
        "if torch.cuda.is_available():\n",
        "    torch.cuda.manual_seed(42)\n",
        "\n",
        "# Configuration\n",
        "class Config:\n",
        "    DATA_DIR = '/content/drive/MyDrive/Annam AI/Soil Classification'\n",
        "    TRAIN_IMAGE_DIR = os.path.join(DATA_DIR, 'train')\n",
        "    TEST_IMAGE_DIR = os.path.join(DATA_DIR, 'test')\n",
        "    TRAIN_CSV = os.path.join(DATA_DIR, 'train_labels.csv')\n",
        "    TEST_CSV = os.path.join(DATA_DIR, 'test_ids.csv')\n",
        "    IMG_SIZE = 224\n",
        "    BATCH_SIZE = 32\n",
        "    EPOCHS = 15\n",
        "    LEARNING_RATE = 1e-4\n",
        "    WEIGHT_DECAY = 1e-4\n",
        "    DEVICE = torch.device('cuda' if torch.cuda.is_available() else 'cpu')\n",
        "    SUPPORTED_EXTENSIONS = ['.jpg', '.jpeg', '.png', '.webp', '.gif']\n",
        "    SUBMISSION_PATH = os.path.join(DATA_DIR, 'prakash_sub/prakash_submission.csv')\n",
        "    CLASS_NAMES = ['Class 0', 'Class 1']  # Placeholder for binary classes\n",
        "    NUM_CLASSES = len(CLASS_NAMES)\n",
        "\n",
        "config = Config()\n",
        "\n",
        "# Ensure output directory exists\n",
        "os.makedirs(os.path.dirname(config.SUBMISSION_PATH), exist_ok=True)\n",
        "\n",
        "# Custom Dataset\n",
        "class SoilDataset(Dataset):\n",
        "    def __init__(self, df, image_dir, transform=None, is_test=False):\n",
        "        self.df = df.reset_index(drop=True)  # Ensure sequential index\n",
        "        self.image_dir = image_dir\n",
        "        self.transform = transform\n",
        "        self.is_test = is_test\n",
        "\n",
        "    def __len__(self):\n",
        "        return len(self.df)\n",
        "\n",
        "    def __getitem__(self, idx):\n",
        "        img_id = self.df['image_id'].iloc[idx]  # Use iloc for safe indexing\n",
        "        img_path = find_valid_image_path(self.image_dir, img_id)\n",
        "\n",
        "        # Handle missing or invalid images\n",
        "        if img_path is None:\n",
        "            print(f\"Warning: Image not found for {img_id}\")\n",
        "            dummy_image = Image.new('RGB', (config.IMG_SIZE, config.IMG_SIZE), (0, 0, 0))\n",
        "            if self.transform:\n",
        "                dummy_image = self.transform(dummy_image)\n",
        "            if self.is_test:\n",
        "                return dummy_image, img_id\n",
        "            return dummy_image, 0  # Default label for missing images\n",
        "\n",
        "        try:\n",
        "            image = Image.open(img_path).convert('RGB')\n",
        "        except Exception as e:\n",
        "            print(f\"Error loading image {img_path}: {e}\")\n",
        "            image = Image.new('RGB', (config.IMG_SIZE, config.IMG_SIZE), (0, 0, 0))\n",
        "\n",
        "        if self.transform:\n",
        "            image = self.transform(image)\n",
        "\n",
        "        if self.is_test:\n",
        "            return image, img_id\n",
        "        label = self.df['label'].iloc[idx]\n",
        "        return image, label\n",
        "\n",
        "def find_valid_image_path(image_dir, image_id):\n",
        "    for ext in config.SUPPORTED_EXTENSIONS:\n",
        "        possible_path = os.path.join(image_dir, f\"{image_id}{ext}\")\n",
        "        if os.path.exists(possible_path):\n",
        "            return possible_path\n",
        "        # Try without extra .jpg suffix\n",
        "        possible_path = os.path.join(image_dir, image_id.replace('.jpg', ext))\n",
        "        if os.path.exists(possible_path):\n",
        "            return possible_path\n",
        "    return None\n",
        "\n",
        "def load_and_prepare_data():\n",
        "    print(\"Loading and preparing data...\")\n",
        "    train_df = pd.read_csv(config.TRAIN_CSV)\n",
        "    test_df = pd.read_csv(config.TEST_CSV)\n",
        "\n",
        "    missing_files = []\n",
        "\n",
        "    # Filter training data\n",
        "    valid_train_indices = []\n",
        "    train_image_paths = []\n",
        "    for idx, image_id in enumerate(train_df['image_id']):\n",
        "        valid_path = find_valid_image_path(config.TRAIN_IMAGE_DIR, image_id)\n",
        "        if valid_path:\n",
        "            valid_train_indices.append(idx)\n",
        "            train_image_paths.append(valid_path)\n",
        "        else:\n",
        "            missing_files.append(image_id)\n",
        "            print(f\"Warning: Image not found for {image_id}\")\n",
        "\n",
        "    train_df = train_df.iloc[valid_train_indices].reset_index(drop=True)\n",
        "    train_df['image_path'] = train_image_paths\n",
        "\n",
        "    # Filter test data\n",
        "    valid_test_indices = []\n",
        "    test_image_paths = []\n",
        "    for idx, image_id in enumerate(test_df['image_id']):\n",
        "        valid_path = find_valid_image_path(config.TEST_IMAGE_DIR, image_id)\n",
        "        if valid_path:\n",
        "            valid_test_indices.append(idx)\n",
        "            test_image_paths.append(valid_path)\n",
        "        else:\n",
        "            missing_files.append(image_id)\n",
        "            print(f\"Warning: Image not found for {image_id}\")\n",
        "\n",
        "    test_df = test_df.iloc[valid_test_indices].reset_index(drop=True)\n",
        "    test_df['image_path'] = test_image_paths\n",
        "\n",
        "    # Log missing files\n",
        "    if missing_files:\n",
        "        print(f\"\\nTotal missing files: {len(missing_files)}\")\n",
        "        output_dir = os.path.dirname(config.SUBMISSION_PATH)\n",
        "        with open(os.path.join(output_dir, 'missing_files.log'), 'w') as f:\n",
        "            f.write(\"\\n\".join(missing_files))\n",
        "\n",
        "    print(f\"Training samples after filtering: {len(train_df)}\")\n",
        "    print(f\"Test samples after filtering: {len(test_df)}\")\n",
        "    print(\"\\nClass distribution:\")\n",
        "    print(train_df['label'].value_counts())\n",
        "\n",
        "    # Check for class imbalance\n",
        "    unique_labels = train_df['label'].unique()\n",
        "    if len(unique_labels) < 2:\n",
        "        print(f\"WARNING: Only one class ({unique_labels}) found in training data. Class balancing disabled.\")\n",
        "\n",
        "    return train_df, test_df\n",
        "\n",
        "def get_transforms(transform_type='default'):\n",
        "    base_transforms = [\n",
        "        transforms.Resize((config.IMG_SIZE, config.IMG_SIZE)),\n",
        "        transforms.ToTensor(),\n",
        "        transforms.Normalize(mean=[0.485, 0.456, 0.406], std=[0.229, 0.224, 0.225])\n",
        "    ]\n",
        "\n",
        "    transform_configs = {\n",
        "        'default': [\n",
        "            transforms.RandomHorizontalFlip(p=0.5),\n",
        "            transforms.RandomRotation(10),\n",
        "            transforms.ColorJitter(brightness=0.2, contrast=0.2)\n",
        "        ],\n",
        "        'aggressive': [\n",
        "            transforms.RandomHorizontalFlip(p=0.7),\n",
        "            transforms.RandomRotation(20),\n",
        "            transforms.ColorJitter(brightness=0.4, contrast=0.4, saturation=0.4),\n",
        "            transforms.RandomAffine(degrees=15, translate=(0.2, 0.2))\n",
        "        ],\n",
        "        'minimal': [\n",
        "            transforms.RandomHorizontalFlip(p=0.5)\n",
        "        ],\n",
        "        'no_augmentation': []\n",
        "    }\n",
        "\n",
        "    train_transform = transforms.Compose(\n",
        "        transform_configs.get(transform_type, transform_configs['default']) + base_transforms\n",
        "    )\n",
        "    val_transform = transforms.Compose(transform_configs['no_augmentation'] + base_transforms)\n",
        "\n",
        "    return train_transform, val_transform\n",
        "\n",
        "class SoilClassifier(nn.Module):\n",
        "    def __init__(self, num_classes=config.NUM_CLASSES, dropout_rate=0.3):\n",
        "        super(SoilClassifier, self).__init__()\n",
        "        self.backbone = models.efficientnet_b0(pretrained=True)\n",
        "        for param in list(self.backbone.parameters())[:-10]:\n",
        "            param.requires_grad = False\n",
        "        num_features = self.backbone.classifier[1].in_features\n",
        "        self.backbone.classifier = nn.Sequential(\n",
        "            nn.Dropout(dropout_rate),\n",
        "            nn.Linear(num_features, 512),\n",
        "            nn.ReLU(),\n",
        "            nn.Dropout(dropout_rate),\n",
        "            nn.Linear(512, num_classes)\n",
        "        )\n",
        "\n",
        "    def forward(self, x):\n",
        "        return self.backbone(x)\n",
        "\n",
        "def train_model(model, train_loader, val_loader, criterion, optimizer, scheduler, num_epochs):\n",
        "    print(\"Starting model training...\")\n",
        "    history = {'train_loss': [], 'val_loss': [], 'val_f1': []}\n",
        "    best_f1 = 0.0\n",
        "    best_model_state = None\n",
        "\n",
        "    for epoch in range(num_epochs):\n",
        "        model.train()\n",
        "        train_loss = 0.0\n",
        "        train_correct = 0\n",
        "        train_total = 0\n",
        "\n",
        "        pbar = tqdm(train_loader, desc=f'Epoch {epoch+1}/{num_epochs}')\n",
        "        for images, labels in pbar:\n",
        "            images, labels = images.to(config.DEVICE), labels.to(config.DEVICE).long()\n",
        "            optimizer.zero_grad()\n",
        "            outputs = model(images)\n",
        "            loss = criterion(outputs, labels)\n",
        "            loss.backward()\n",
        "            optimizer.step()\n",
        "\n",
        "            train_loss += loss.item()\n",
        "            _, predicted = torch.max(outputs.data, 1)\n",
        "            train_total += labels.size(0)\n",
        "            train_correct += (predicted == labels).sum().item()\n",
        "\n",
        "            pbar.set_postfix({\n",
        "                'Loss': f'{loss.item():.4f}',\n",
        "                'Acc': f'{100.*train_correct/train_total:.2f}%'\n",
        "            })\n",
        "\n",
        "        model.eval()\n",
        "        val_loss = 0.0\n",
        "        val_predictions = []\n",
        "        val_targets = []\n",
        "\n",
        "        with torch.no_grad():\n",
        "            for images, labels in val_loader:\n",
        "                images, labels = images.to(config.DEVICE), labels.to(config.DEVICE).long()\n",
        "                outputs = model(images)\n",
        "                loss = criterion(outputs, labels)\n",
        "                val_loss += loss.item()\n",
        "                _, predicted = torch.max(outputs, 1)\n",
        "                val_predictions.extend(predicted.cpu().numpy())\n",
        "                val_targets.extend(labels.cpu().numpy())\n",
        "\n",
        "        avg_train_loss = train_loss / len(train_loader)\n",
        "        avg_val_loss = val_loss / len(val_loader)\n",
        "        f1 = f1_score(val_targets, val_predictions, average='macro')\n",
        "\n",
        "        history['train_loss'].append(avg_train_loss)\n",
        "        history['val_loss'].append(avg_val_loss)\n",
        "        history['val_f1'].append(f1)\n",
        "\n",
        "        if f1 > best_f1:\n",
        "            best_f1 = f1\n",
        "            best_model_state = model.state_dict().copy()\n",
        "            output_dir = os.path.dirname(config.SUBMISSION_PATH)\n",
        "            torch.save(best_model_state, os.path.join(output_dir, 'best_model.pth'))\n",
        "\n",
        "        scheduler.step()\n",
        "\n",
        "        print(f'Epoch {epoch+1}/{num_epochs}:')\n",
        "        print(f'  Train Loss: {avg_train_loss:.4f}')\n",
        "        print(f'  Val Loss: {avg_val_loss:.4f}')\n",
        "        print(f'  F1 Score: {f1:.4f}')\n",
        "        print('-' * 50)\n",
        "\n",
        "    model.load_state_dict(best_model_state)\n",
        "    print(f'Best F1 score: {best_f1:.4f}')\n",
        "    return model, history\n",
        "\n",
        "def evaluate_model(model, data_loader, class_names):\n",
        "    model.eval()\n",
        "    predictions = []\n",
        "    targets = []\n",
        "\n",
        "    with torch.no_grad():\n",
        "        for images, labels in tqdm(data_loader, desc='Evaluating'):\n",
        "            images = images.to(config.DEVICE)\n",
        "            outputs = model(images)\n",
        "            _, predicted = torch.max(outputs, 1)\n",
        "            predictions.extend(predicted.cpu().numpy())\n",
        "            targets.extend(labels.cpu().numpy())\n",
        "\n",
        "    # Check the number of unique classes in the actual targets\n",
        "    unique_targets = np.unique(targets)\n",
        "\n",
        "    print(\"\\nDetailed Evaluation Results:\")\n",
        "    print(\"=\" * 50)\n",
        "\n",
        "    if len(unique_targets) < 2:\n",
        "        # If only one class is present, classification report and F1 score are not applicable\n",
        "        print(f\"Warning: Only one unique class ({unique_targets}) found in validation set.\")\n",
        "        print(\"Skipping detailed classification report and F1 score calculation.\")\n",
        "        f1 = np.nan # Or some indicator that F1 couldn't be calculated\n",
        "        # Optionally, check if all predictions match the single target class\n",
        "        if np.all(predictions == targets):\n",
        "             print(\"All predictions match the single target class.\")\n",
        "        else:\n",
        "             print(\"Predictions do not match the single target class.\")\n",
        "\n",
        "    else:\n",
        "        # Proceed with standard evaluation for multiple classes\n",
        "        f1 = f1_score(targets, predictions, average='macro')\n",
        "        print(f\"F1 Score: {f1:.4f}\")\n",
        "\n",
        "        print(\"\\nClassification Report:\")\n",
        "        # Pass the unique targets as labels to classification_report\n",
        "        # This ensures that only metrics for the classes actually present are calculated\n",
        "        # and it avoids the mismatch error.\n",
        "        # We also filter target_names to match the unique targets.\n",
        "        # It's important that unique_targets map correctly to class_names indices.\n",
        "        # Assuming unique_targets will be 0 and/or 1 corresponding to Class 0 and Class 1\n",
        "        filtered_class_names = [class_names[i] for i in sorted(unique_targets)]\n",
        "        print(classification_report(targets, predictions, labels=sorted(unique_targets), target_names=filtered_class_names, zero_division=0))\n",
        "\n",
        "        cm = confusion_matrix(targets, predictions, labels=sorted(unique_targets))\n",
        "        plt.figure(figsize=(8, 6))\n",
        "        sns.heatmap(cm, annot=True, fmt='d', cmap='Blues',\n",
        "                    xticklabels=filtered_class_names, yticklabels=filtered_class_names)\n",
        "        plt.title('Confusion Matrix')\n",
        "        plt.ylabel('True Label')\n",
        "        plt.xlabel('Predicted Label')\n",
        "        plt.tight_layout()\n",
        "        plt.show()\n",
        "\n",
        "\n",
        "    return predictions, targets, f1 # Return f1, which might be nan if only one class\n",
        "\n",
        "def generate_predictions(model, test_loader, test_df, class_names):\n",
        "    print(\"Generating predictions for test set...\")\n",
        "    model.eval()\n",
        "    predictions = []\n",
        "    img_ids = []\n",
        "\n",
        "    with torch.no_grad():\n",
        "        for images, ids in tqdm(test_loader, desc='Predicting'):\n",
        "            images = images.to(config.DEVICE)\n",
        "            outputs = model(images)\n",
        "            _, predicted = torch.max(outputs, 1)\n",
        "            predictions.extend(predicted.cpu().numpy())\n",
        "            img_ids.extend(ids)\n",
        "\n",
        "    submission_df = pd.DataFrame({\n",
        "        'image_id': img_ids,\n",
        "        'label': predictions\n",
        "    })\n",
        "    submission_df.to_csv(config.SUBMISSION_PATH, index=False)\n",
        "    print(f\"Submission file saved as {config.SUBMISSION_PATH}\")\n",
        "    return submission_df\n",
        "\n",
        "def plot_training_history(history):\n",
        "    fig, (ax1, ax2) = plt.subplots(1, 2, figsize=(15, 5))\n",
        "    ax1.plot(history['train_loss'], label='Training Loss')\n",
        "    ax1.plot(history['val_loss'], label='Validation Loss')\n",
        "    ax1.set_title('Model Loss')\n",
        "    ax1.set_xlabel('Epoch')\n",
        "    ax1.set_ylabel('Loss')\n",
        "    ax1.legend()\n",
        "    ax1.grid(True)\n",
        "\n",
        "    ax2.plot(history['val_f1'], label='F1 Score', color='green')\n",
        "    ax2.set_title('Validation F1 Score')\n",
        "    ax2.set_xlabel('Epoch')\n",
        "    ax2.set_ylabel('F1 Score')\n",
        "    ax2.legend()\n",
        "    ax2.grid(True)\n",
        "\n",
        "    plt.tight_layout()\n",
        "    plt.show()\n",
        "\n",
        "def main(transform_type='default'):\n",
        "    print(\"Soil Classification Challenge - Binary Classification\")\n",
        "    print(\"=\" * 50)\n",
        "    print(f\"Using device: {config.DEVICE}\")\n",
        "\n",
        "    # Load data\n",
        "    train_df, test_df = load_and_prepare_data()\n",
        "    train_data, val_data = train_test_split(\n",
        "        train_df,\n",
        "        test_size=0.2,\n",
        "        stratify=train_df['label'],\n",
        "        random_state=42\n",
        "    )\n",
        "    # Reset indices to ensure sequential access\n",
        "    train_data = train_data.reset_index(drop=True)\n",
        "    val_data = val_data.reset_index(drop=True)\n",
        "\n",
        "    print(f\"\\nTrain set size: {len(train_data)}\")\n",
        "    print(f\"Validation set size: {len(val_data)}\")\n",
        "\n",
        "    # Get transforms\n",
        "    train_transform, val_transform = get_transforms(transform_type)\n",
        "\n",
        "    # Create datasets\n",
        "    train_dataset = SoilDataset(train_data, config.TRAIN_IMAGE_DIR, train_transform)\n",
        "    val_dataset = SoilDataset(val_data, config.TRAIN_IMAGE_DIR, val_transform)\n",
        "    test_dataset = SoilDataset(test_df, config.TEST_IMAGE_DIR, val_transform, is_test=True)\n",
        "\n",
        "    # Create data loaders (no sampler due to single class)\n",
        "    train_loader = DataLoader(\n",
        "        train_dataset,\n",
        "        batch_size=config.BATCH_SIZE,\n",
        "        shuffle=True,  # Use shuffle instead of sampler\n",
        "        num_workers=0  # Set to 0 to avoid worker issues\n",
        "    )\n",
        "    val_loader = DataLoader(\n",
        "        val_dataset,\n",
        "        batch_size=config.BATCH_SIZE,\n",
        "        shuffle=False,\n",
        "        num_workers=0\n",
        "    )\n",
        "    test_loader = DataLoader(\n",
        "        test_dataset,\n",
        "        batch_size=config.BATCH_SIZE,\n",
        "        shuffle=False,\n",
        "        num_workers=0\n",
        "    )\n",
        "\n",
        "    # Initialize model\n",
        "    model = SoilClassifier(num_classes=config.NUM_CLASSES)\n",
        "    model = model.to(config.DEVICE)\n",
        "\n",
        "    # Use standard CrossEntropyLoss (no class weights due to single class)\n",
        "    criterion = nn.CrossEntropyLoss()\n",
        "    optimizer = optim.AdamW(model.parameters(),\n",
        "                           lr=config.LEARNING_RATE,\n",
        "                           weight_decay=config.WEIGHT_DECAY)\n",
        "    scheduler = optim.lr_scheduler.CosineAnnealingLR(optimizer, T_max=config.EPOCHS)\n",
        "\n",
        "    # Train model\n",
        "    model, history = train_model(model, train_loader, val_loader, criterion, optimizer, scheduler, config.EPOCHS)\n",
        "\n",
        "    # Plot training history\n",
        "    plot_training_history(history)\n",
        "\n",
        "    # Evaluate model\n",
        "    predictions, targets, f1 = evaluate_model(model, val_loader, config.CLASS_NAMES)\n",
        "\n",
        "    # Generate predictions\n",
        "    submission_df = generate_predictions(model, test_loader, test_df, config.CLASS_NAMES)\n",
        "\n",
        "    print(\"\\nSolution completed successfully!\")\n",
        "    print(\"Files generated:\")\n",
        "    print(f\"- {config.SUBMISSION_PATH}: Final predictions for submission\")\n",
        "    print(f\"- {os.path.join(os.path.dirname(config.SUBMISSION_PATH), 'best_model.pth')}: Best model weights\")\n",
        "    print(f\"- {os.path.join(os.path.dirname(config.SUBMISSION_PATH), 'missing_files.log')}: Log of missing image files\")\n",
        "    print(\"Visualizations displayed:\")\n",
        "    print(\"- Confusion matrix\")\n",
        "    print(\"- Training history plots\")\n",
        "\n",
        "    return model, submission_df\n",
        "\n",
        "if __name__ == \"__main__\":\n",
        "    model, submission = main(transform_type='default')"
      ],
      "metadata": {
        "colab": {
          "base_uri": "https://localhost:8080/",
          "height": 1000
        },
        "id": "XJNfGhIuAxKY",
        "outputId": "f70c21a8-9eb6-4729-b095-0b4f263c6c3b"
      },
      "execution_count": 16,
      "outputs": [
        {
          "output_type": "stream",
          "name": "stdout",
          "text": [
            "Soil Classification Challenge - Binary Classification\n",
            "==================================================\n",
            "Using device: cuda\n",
            "Loading and preparing data...\n",
            "Training samples after filtering: 1222\n",
            "Test samples after filtering: 967\n",
            "\n",
            "Class distribution:\n",
            "label\n",
            "1    1222\n",
            "Name: count, dtype: int64\n",
            "WARNING: Only one class ([1]) found in training data. Class balancing disabled.\n",
            "\n",
            "Train set size: 977\n",
            "Validation set size: 245\n",
            "Starting model training...\n"
          ]
        },
        {
          "output_type": "stream",
          "name": "stderr",
          "text": [
            "Epoch 1/15: 100%|██████████| 31/31 [00:22<00:00,  1.36it/s, Loss=0.0533, Acc=96.83%]\n"
          ]
        },
        {
          "output_type": "stream",
          "name": "stdout",
          "text": [
            "Epoch 1/15:\n",
            "  Train Loss: 0.2392\n",
            "  Val Loss: 0.1265\n",
            "  F1 Score: 0.4938\n",
            "--------------------------------------------------\n"
          ]
        },
        {
          "output_type": "stream",
          "name": "stderr",
          "text": [
            "Epoch 2/15: 100%|██████████| 31/31 [00:23<00:00,  1.34it/s, Loss=0.0331, Acc=99.90%]\n"
          ]
        },
        {
          "output_type": "stream",
          "name": "stdout",
          "text": [
            "Epoch 2/15:\n",
            "  Train Loss: 0.0374\n",
            "  Val Loss: 0.0547\n",
            "  F1 Score: 0.4980\n",
            "--------------------------------------------------\n"
          ]
        },
        {
          "output_type": "stream",
          "name": "stderr",
          "text": [
            "Epoch 3/15: 100%|██████████| 31/31 [00:22<00:00,  1.37it/s, Loss=0.0063, Acc=99.90%]\n"
          ]
        },
        {
          "output_type": "stream",
          "name": "stdout",
          "text": [
            "Epoch 3/15:\n",
            "  Train Loss: 0.0151\n",
            "  Val Loss: 0.0430\n",
            "  F1 Score: 1.0000\n",
            "--------------------------------------------------\n"
          ]
        },
        {
          "output_type": "stream",
          "name": "stderr",
          "text": [
            "Epoch 4/15: 100%|██████████| 31/31 [00:23<00:00,  1.33it/s, Loss=0.0018, Acc=100.00%]\n"
          ]
        },
        {
          "output_type": "stream",
          "name": "stdout",
          "text": [
            "Epoch 4/15:\n",
            "  Train Loss: 0.0092\n",
            "  Val Loss: 0.0307\n",
            "  F1 Score: 1.0000\n",
            "--------------------------------------------------\n"
          ]
        },
        {
          "output_type": "stream",
          "name": "stderr",
          "text": [
            "Epoch 5/15: 100%|██████████| 31/31 [00:22<00:00,  1.39it/s, Loss=0.0026, Acc=100.00%]\n"
          ]
        },
        {
          "output_type": "stream",
          "name": "stdout",
          "text": [
            "Epoch 5/15:\n",
            "  Train Loss: 0.0051\n",
            "  Val Loss: 0.0262\n",
            "  F1 Score: 1.0000\n",
            "--------------------------------------------------\n"
          ]
        },
        {
          "output_type": "stream",
          "name": "stderr",
          "text": [
            "Epoch 6/15: 100%|██████████| 31/31 [00:23<00:00,  1.31it/s, Loss=0.0015, Acc=100.00%]\n"
          ]
        },
        {
          "output_type": "stream",
          "name": "stdout",
          "text": [
            "Epoch 6/15:\n",
            "  Train Loss: 0.0049\n",
            "  Val Loss: 0.0243\n",
            "  F1 Score: 1.0000\n",
            "--------------------------------------------------\n"
          ]
        },
        {
          "output_type": "stream",
          "name": "stderr",
          "text": [
            "Epoch 7/15: 100%|██████████| 31/31 [00:22<00:00,  1.38it/s, Loss=0.0017, Acc=100.00%]\n"
          ]
        },
        {
          "output_type": "stream",
          "name": "stdout",
          "text": [
            "Epoch 7/15:\n",
            "  Train Loss: 0.0043\n",
            "  Val Loss: 0.0185\n",
            "  F1 Score: 1.0000\n",
            "--------------------------------------------------\n"
          ]
        },
        {
          "output_type": "stream",
          "name": "stderr",
          "text": [
            "Epoch 8/15: 100%|██████████| 31/31 [00:22<00:00,  1.36it/s, Loss=0.0011, Acc=100.00%]\n"
          ]
        },
        {
          "output_type": "stream",
          "name": "stdout",
          "text": [
            "Epoch 8/15:\n",
            "  Train Loss: 0.0029\n",
            "  Val Loss: 0.0158\n",
            "  F1 Score: 1.0000\n",
            "--------------------------------------------------\n"
          ]
        },
        {
          "output_type": "stream",
          "name": "stderr",
          "text": [
            "Epoch 9/15: 100%|██████████| 31/31 [00:22<00:00,  1.37it/s, Loss=0.0012, Acc=100.00%]\n"
          ]
        },
        {
          "output_type": "stream",
          "name": "stdout",
          "text": [
            "Epoch 9/15:\n",
            "  Train Loss: 0.0020\n",
            "  Val Loss: 0.0149\n",
            "  F1 Score: 1.0000\n",
            "--------------------------------------------------\n"
          ]
        },
        {
          "output_type": "stream",
          "name": "stderr",
          "text": [
            "Epoch 10/15: 100%|██████████| 31/31 [00:22<00:00,  1.37it/s, Loss=0.0017, Acc=100.00%]\n"
          ]
        },
        {
          "output_type": "stream",
          "name": "stdout",
          "text": [
            "Epoch 10/15:\n",
            "  Train Loss: 0.0020\n",
            "  Val Loss: 0.0150\n",
            "  F1 Score: 1.0000\n",
            "--------------------------------------------------\n"
          ]
        },
        {
          "output_type": "stream",
          "name": "stderr",
          "text": [
            "Epoch 11/15: 100%|██████████| 31/31 [00:22<00:00,  1.35it/s, Loss=0.0013, Acc=100.00%]\n"
          ]
        },
        {
          "output_type": "stream",
          "name": "stdout",
          "text": [
            "Epoch 11/15:\n",
            "  Train Loss: 0.0022\n",
            "  Val Loss: 0.0115\n",
            "  F1 Score: 1.0000\n",
            "--------------------------------------------------\n"
          ]
        },
        {
          "output_type": "stream",
          "name": "stderr",
          "text": [
            "Epoch 12/15: 100%|██████████| 31/31 [00:23<00:00,  1.34it/s, Loss=0.0023, Acc=100.00%]\n"
          ]
        },
        {
          "output_type": "stream",
          "name": "stdout",
          "text": [
            "Epoch 12/15:\n",
            "  Train Loss: 0.0026\n",
            "  Val Loss: 0.0147\n",
            "  F1 Score: 1.0000\n",
            "--------------------------------------------------\n"
          ]
        },
        {
          "output_type": "stream",
          "name": "stderr",
          "text": [
            "Epoch 13/15: 100%|██████████| 31/31 [00:23<00:00,  1.34it/s, Loss=0.0010, Acc=100.00%]\n"
          ]
        },
        {
          "output_type": "stream",
          "name": "stdout",
          "text": [
            "Epoch 13/15:\n",
            "  Train Loss: 0.0021\n",
            "  Val Loss: 0.0136\n",
            "  F1 Score: 1.0000\n",
            "--------------------------------------------------\n"
          ]
        },
        {
          "output_type": "stream",
          "name": "stderr",
          "text": [
            "Epoch 14/15: 100%|██████████| 31/31 [00:23<00:00,  1.33it/s, Loss=0.0014, Acc=100.00%]\n"
          ]
        },
        {
          "output_type": "stream",
          "name": "stdout",
          "text": [
            "Epoch 14/15:\n",
            "  Train Loss: 0.0013\n",
            "  Val Loss: 0.0119\n",
            "  F1 Score: 1.0000\n",
            "--------------------------------------------------\n"
          ]
        },
        {
          "output_type": "stream",
          "name": "stderr",
          "text": [
            "Epoch 15/15: 100%|██████████| 31/31 [00:23<00:00,  1.33it/s, Loss=0.0005, Acc=100.00%]\n"
          ]
        },
        {
          "output_type": "stream",
          "name": "stdout",
          "text": [
            "Epoch 15/15:\n",
            "  Train Loss: 0.0015\n",
            "  Val Loss: 0.0140\n",
            "  F1 Score: 1.0000\n",
            "--------------------------------------------------\n",
            "Best F1 score: 1.0000\n"
          ]
        },
        {
          "output_type": "display_data",
          "data": {
            "text/plain": [
              "<Figure size 1500x500 with 2 Axes>"
            ],
            "image/png": "[encoded data removed]"
          },
          "metadata": {}
        },
        {
          "output_type": "stream",
          "name": "stderr",
          "text": [
            "Evaluating: 100%|██████████| 8/8 [00:05<00:00,  1.53it/s]\n"
          ]
        },
        {
          "output_type": "stream",
          "name": "stdout",
          "text": [
            "\n",
            "Detailed Evaluation Results:\n",
            "==================================================\n",
            "Warning: Only one unique class ([1]) found in validation set.\n",
            "Skipping detailed classification report and F1 score calculation.\n",
            "All predictions match the single target class.\n",
            "Generating predictions for test set...\n"
          ]
        },
        {
          "output_type": "stream",
          "name": "stderr",
          "text": [
            "Predicting: 100%|██████████| 31/31 [00:06<00:00,  4.92it/s]"
          ]
        },
        {
          "output_type": "stream",
          "name": "stdout",
          "text": [
            "Submission file saved as /content/drive/MyDrive/Annam AI/Soil Classification/prakash_sub/prakash_submission.csv\n",
            "\n",
            "Solution completed successfully!\n",
            "Files generated:\n",
            "- /content/drive/MyDrive/Annam AI/Soil Classification/prakash_sub/prakash_submission.csv: Final predictions for submission\n",
            "- /content/drive/MyDrive/Annam AI/Soil Classification/prakash_sub/best_model.pth: Best model weights\n",
            "- /content/drive/MyDrive/Annam AI/Soil Classification/prakash_sub/missing_files.log: Log of missing image files\n",
            "Visualizations displayed:\n",
            "- Confusion matrix\n",
            "- Training history plots\n"
          ]
        },
        {
          "output_type": "stream",
          "name": "stderr",
          "text": [
            "\n"
          ]
        }
      ]
    },
    {
      "cell_type": "code",
      "source": [
        "# Configuration (from your original code)\n",
        "class Config:\n",
        "    DATA_DIR = '/content/drive/MyDrive/Annam AI/Soil Classification'\n",
        "    TRAIN_IMAGE_DIR = os.path.join(DATA_DIR, 'train')\n",
        "    TRAIN_CSV = os.path.join(DATA_DIR, 'train_labels.csv')\n",
        "    CLASS_NAMES = ['Class 0', 'Class 1']\n",
        "    DEVICE = torch.device('cuda' if torch.cuda.is_available() else 'cpu')\n",
        "\n",
        "config = Config()\n",
        "\n",
        "# Assume SoilDataset and SoilClassifier are defined as in your original code\n",
        "# For completeness, include minimal versions here\n",
        "class SoilDataset(Dataset):\n",
        "    def __init__(self, df, image_dir, transform=None, is_test=False):\n",
        "        self.df = df.reset_index(drop=True)\n",
        "        self.image_dir = image_dir\n",
        "        self.transform = transform\n",
        "        self.is_test = is_test\n",
        "\n",
        "    def __len__(self):\n",
        "        return len(self.df)\n",
        "\n",
        "    def __getitem__(self, idx):\n",
        "        img_id = self.df['image_id'].iloc[idx]\n",
        "        img_path = find_valid_image_path(self.image_dir, img_id)\n",
        "        from PIL import Image\n",
        "        if img_path is None:\n",
        "            print(f\"Warning: Image not found for {img_id}\")\n",
        "            dummy_image = Image.new('RGB', (224, 224), (0, 0, 0))\n",
        "            if self.transform:\n",
        "                dummy_image = self.transform(dummy_image)\n",
        "            return dummy_image, 0 if not self.is_test else (dummy_image, img_id)\n",
        "        try:\n",
        "            image = Image.open(img_path).convert('RGB')\n",
        "        except Exception as e:\n",
        "            print(f\"Error loading image {img_path}: {e}\")\n",
        "            image = Image.new('RGB', (224, 224), (0, 0, 0))\n",
        "        if self.transform:\n",
        "            image = self.transform(image)\n",
        "        if self.is_test:\n",
        "            return image, img_id\n",
        "        label = self.df['label'].iloc[idx]\n",
        "        return image, label\n",
        "\n",
        "def find_valid_image_path(image_dir, image_id):\n",
        "    supported_extensions = ['.jpg', '.jpeg', '.png', '.webp', '.gif']\n",
        "    for ext in supported_extensions:\n",
        "        possible_path = os.path.join(image_dir, f\"{image_id}{ext}\")\n",
        "        if os.path.exists(possible_path):\n",
        "            return possible_path\n",
        "        possible_path = os.path.join(image_dir, image_id.replace('.jpg', ext))\n",
        "        if os.path.exists(possible_path):\n",
        "            return possible_path\n",
        "    return None\n",
        "\n",
        "class SoilClassifier(torch.nn.Module):\n",
        "    def __init__(self, num_classes=2, dropout_rate=0.3):\n",
        "        super(SoilClassifier, self).__init__()\n",
        "        import torchvision.models as models\n",
        "        self.backbone = models.efficientnet_b0(pretrained=True)\n",
        "        for param in list(self.backbone.parameters())[:-10]:\n",
        "            param.requires_grad = False\n",
        "        num_features = self.backbone.classifier[1].in_features\n",
        "        self.backbone.classifier = torch.nn.Sequential(\n",
        "            torch.nn.Dropout(dropout_rate),\n",
        "            torch.nn.Linear(num_features, 512),\n",
        "            torch.nn.ReLU(),\n",
        "            torch.nn.Dropout(dropout_rate),\n",
        "            torch.nn.Linear(512, num_classes)\n",
        "        )\n",
        "\n",
        "    def forward(self, x):\n",
        "        return self.backbone(x)\n",
        "\n",
        "def evaluate_model(model, data_loader, class_names):\n",
        "    model.eval()\n",
        "    predictions = []\n",
        "    targets = []\n",
        "\n",
        "    # Collect predictions and true labels\n",
        "    with torch.no_grad():\n",
        "        for images, labels in tqdm(data_loader, desc='Evaluating'):\n",
        "            images = images.to(config.DEVICE)\n",
        "            outputs = model(images)\n",
        "            _, predicted = torch.max(outputs, 1)\n",
        "            predictions.extend(predicted.cpu().numpy())\n",
        "            targets.extend(labels.cpu().numpy())\n",
        "\n",
        "    # Check for single-class issue\n",
        "    unique_targets = np.unique(targets)\n",
        "    if len(unique_targets) < 2:\n",
        "        print(f\"Warning: Only one unique class {unique_targets} found in validation set.\")\n",
        "        print(\"Skipping detailed classification report and F1 score calculation.\")\n",
        "        print(\"Confusion matrix will reflect single-class predictions.\")\n",
        "    else:\n",
        "        # Compute F1 score and classification report\n",
        "        f1 = f1_score(targets, predictions, average='macro')\n",
        "        print(\"\\nDetailed Evaluation Results:\")\n",
        "        print(\"=\" * 50)\n",
        "        print(f\"F1 Score: {f1:.4f}\")\n",
        "        print(\"\\nClassification Report:\")\n",
        "        print(classification_report(targets, predictions, target_names=class_names))\n",
        "\n",
        "    # Compute and display confusion matrix\n",
        "    cm = confusion_matrix(targets, predictions, labels=range(len(class_names)))\n",
        "    plt.figure(figsize=(8, 6))\n",
        "    sns.heatmap(cm, annot=True, fmt='d', cmap='Blues',\n",
        "                xticklabels=class_names, yticklabels=class_names)\n",
        "    plt.title('Confusion Matrix')\n",
        "    plt.ylabel('True Label')\n",
        "    plt.xlabel('Predicted Label')\n",
        "    plt.tight_layout()\n",
        "    plt.show()\n",
        "\n",
        "    return predictions, targets, f1 if len(unique_targets) >= 2 else None\n",
        "\n",
        "# Example usage to load validation data and model\n",
        "def main():\n",
        "    # Mount Google Drive\n",
        "    from google.colab import drive\n",
        "    drive.mount('/content/drive')\n",
        "\n",
        "    # Load validation data\n",
        "    train_df = pd.read_csv(config.TRAIN_CSV)\n",
        "    print(\"Class distribution in train_labels.csv:\")\n",
        "    print(train_df['label'].value_counts())  # Diagnose class distribution\n",
        "\n",
        "    train_data, val_data = train_test_split(\n",
        "        train_df, test_size=0.2, stratify=train_df['label'], random_state=42\n",
        "    )\n",
        "    val_data = val_data.reset_index(drop=True)\n",
        "\n",
        "    # Define validation transforms\n",
        "    val_transform = transforms.Compose([\n",
        "        transforms.Resize((224, 224)),\n",
        "        transforms.ToTensor(),\n",
        "        transforms.Normalize(mean=[0.485, 0.456, 0.406], std=[0.229, 0.224, 0.225])\n",
        "    ])\n",
        "\n",
        "    # Create validation dataset and loader\n",
        "    val_dataset = SoilDataset(val_data, config.TRAIN_IMAGE_DIR, val_transform)\n",
        "    val_loader = DataLoader(val_dataset, batch_size=32, shuffle=False, num_workers=0)\n",
        "\n",
        "    # Load trained model\n",
        "    model = SoilClassifier(num_classes=len(config.CLASS_NAMES)).to(config.DEVICE)\n",
        "    model_path = os.path.join(config.DATA_DIR, 'prakash_sub/best_model.pth')\n",
        "    if os.path.exists(model_path):\n",
        "        model.load_state_dict(torch.load(model_path))\n",
        "    else:\n",
        "        print(f\"Error: Model file {model_path} not found.\")\n",
        "        return\n",
        "\n",
        "    # Display confusion matrix\n",
        "    predictions, targets, f1 = evaluate_model(model, val_loader, config.CLASS_NAMES)\n",
        "\n",
        "if __name__ == \"__main__\":\n",
        "    main()"
      ],
      "metadata": {
        "colab": {
          "base_uri": "https://localhost:8080/",
          "height": 763
        },
        "id": "MVFjsZGcQNY4",
        "outputId": "0c4e730d-d1b8-42d9-cd56-d17073682600"
      },
      "execution_count": 19,
      "outputs": [
        {
          "output_type": "stream",
          "name": "stdout",
          "text": [
            "Drive already mounted at /content/drive; to attempt to forcibly remount, call drive.mount(\"/content/drive\", force_remount=True).\n",
            "Class distribution in train_labels.csv:\n",
            "label\n",
            "1    1222\n",
            "Name: count, dtype: int64\n"
          ]
        },
        {
          "output_type": "stream",
          "name": "stderr",
          "text": [
            "Evaluating: 100%|██████████| 8/8 [00:03<00:00,  2.34it/s]"
          ]
        },
        {
          "output_type": "stream",
          "name": "stdout",
          "text": [
            "Warning: Only one unique class [1] found in validation set.\n",
            "Skipping detailed classification report and F1 score calculation.\n",
            "Confusion matrix will reflect single-class predictions.\n"
          ]
        },
        {
          "output_type": "stream",
          "name": "stderr",
          "text": [
            "\n"
          ]
        },
        {
          "output_type": "display_data",
          "data": {
            "text/plain": [
              "<Figure size 800x600 with 2 Axes>"
            ],
            "image/png": "[encoded data removed]"
          },
          "metadata": {}
        }
      ]
    },
    {
      "cell_type": "code",
      "source": [],
      "metadata": {
        "id": "dp0b06dIbh3v"
      },
      "execution_count": null,
      "outputs": []
    }
  ]
}