{
  "nbformat": 4,
  "nbformat_minor": 0,
  "metadata": {
    "colab": {
      "provenance": [],
      "gpuType": "T4"
    },
    "kernelspec": {
      "name": "python3",
      "display_name": "Python 3"
    },
    "language_info": {
      "name": "python"
    },
    "accelerator": "GPU"
  },
  "cells": [
    {
      "cell_type": "code",
      "source": [
        "from google.colab import drive\n",
        "drive.mount('/content/drive')"
      ],
      "metadata": {
        "colab": {
          "base_uri": "https://localhost:8080/"
        },
        "id": "cSmwmUWxmaGp",
        "outputId": "11fcdd2a-6227-4b82-9668-5d1b7910f424"
      },
      "execution_count": null,
      "outputs": [
        {
          "output_type": "stream",
          "name": "stdout",
          "text": [
            "Drive already mounted at /content/drive; to attempt to forcibly remount, call drive.mount(\"/content/drive\", force_remount=True).\n"
          ]
        }
      ]
    },
    {
      "cell_type": "code",
      "source": [
        "import os\n",
        "import pandas as pd\n",
        "import numpy as np\n",
        "import matplotlib.pyplot as plt\n",
        "import seaborn as sns\n",
        "from PIL import Image\n",
        "import warnings\n",
        "warnings.filterwarnings('ignore')\n",
        "\n",
        "# Deep Learning Libraries\n",
        "import torch\n",
        "import torch.nn as nn\n",
        "import torch.optim as optim\n",
        "from torch.utils.data import Dataset, DataLoader, WeightedRandomSampler\n",
        "import torchvision.transforms as transforms\n",
        "import torchvision.models as models\n",
        "from sklearn.model_selection import train_test_split\n",
        "from sklearn.metrics import classification_report, confusion_matrix, f1_score\n",
        "from sklearn.utils.class_weight import compute_class_weight\n",
        "from tqdm import tqdm\n"
      ],
      "metadata": {
        "id": "NzNqA36Qicdl"
      },
      "execution_count": 1,
      "outputs": []
    },
    {
      "cell_type": "code",
      "execution_count": null,
      "metadata": {
        "colab": {
          "base_uri": "https://localhost:8080/",
          "height": 1000
        },
        "id": "-Y5n2JLKeV68",
        "outputId": "b15cdc0b-ecf3-4f8b-e8a1-e61eb7a3f087"
      },
      "outputs": [
        {
          "output_type": "stream",
          "name": "stdout",
          "text": [
            "Soil Classification Challenge - Solution\n",
            "==================================================\n",
            "Using device: cuda\n",
            "Loading and preparing data...\n",
            "WARNING: The following classes are missing in the training data: ['Alluvial soil', 'Clay soil', 'Red soil']\n",
            "This may cause poor generalization to missing classes.\n",
            "Training samples: 1222\n",
            "Test samples: 967\n",
            "\n",
            "Class distribution:\n",
            "  Alluvial soil (Label 0): 0\n",
            "  Black Soil (Label 1): 1222\n",
            "  Clay soil (Label 2): 0\n",
            "  Red soil (Label 3): 0\n",
            "\n",
            "Train set size: 977\n",
            "Validation set size: 245\n",
            "WARNING: Not all classes are present in the training data. Assigning default weights for missing classes.\n",
            "Starting model training...\n"
          ]
        },
        {
          "output_type": "stream",
          "name": "stderr",
          "text": [
            "Epoch 1/15: 100%|██████████| 31/31 [00:14<00:00,  2.18it/s, Loss=0.0031, Acc=98.46%]\n"
          ]
        },
        {
          "output_type": "stream",
          "name": "stdout",
          "text": [
            "Epoch 1/15:\n",
            "  Train Loss: 0.0823\n",
            "  Val Loss: 0.0145\n",
            "  Min F1 Score: 1.0000\n",
            "  Class F1 Scores: [1.]\n",
            "--------------------------------------------------\n"
          ]
        },
        {
          "output_type": "stream",
          "name": "stderr",
          "text": [
            "Epoch 2/15: 100%|██████████| 31/31 [00:14<00:00,  2.18it/s, Loss=0.0000, Acc=100.00%]\n"
          ]
        },
        {
          "output_type": "stream",
          "name": "stdout",
          "text": [
            "Epoch 2/15:\n",
            "  Train Loss: 0.0020\n",
            "  Val Loss: 0.0174\n",
            "  Min F1 Score: 0.0000\n",
            "  Class F1 Scores: [0.         0.99795501]\n",
            "--------------------------------------------------\n"
          ]
        },
        {
          "output_type": "stream",
          "name": "stderr",
          "text": [
            "Epoch 3/15: 100%|██████████| 31/31 [00:14<00:00,  2.15it/s, Loss=0.0000, Acc=100.00%]\n"
          ]
        },
        {
          "output_type": "stream",
          "name": "stdout",
          "text": [
            "Epoch 3/15:\n",
            "  Train Loss: 0.0001\n",
            "  Val Loss: 0.0031\n",
            "  Min F1 Score: 1.0000\n",
            "  Class F1 Scores: [1.]\n",
            "--------------------------------------------------\n"
          ]
        },
        {
          "output_type": "stream",
          "name": "stderr",
          "text": [
            "Epoch 4/15: 100%|██████████| 31/31 [00:14<00:00,  2.19it/s, Loss=0.0001, Acc=100.00%]\n"
          ]
        },
        {
          "output_type": "stream",
          "name": "stdout",
          "text": [
            "Epoch 4/15:\n",
            "  Train Loss: 0.0003\n",
            "  Val Loss: 0.0005\n",
            "  Min F1 Score: 1.0000\n",
            "  Class F1 Scores: [1.]\n",
            "--------------------------------------------------\n"
          ]
        },
        {
          "output_type": "stream",
          "name": "stderr",
          "text": [
            "Epoch 5/15: 100%|██████████| 31/31 [00:13<00:00,  2.23it/s, Loss=0.0000, Acc=100.00%]\n"
          ]
        },
        {
          "output_type": "stream",
          "name": "stdout",
          "text": [
            "Epoch 5/15:\n",
            "  Train Loss: 0.0002\n",
            "  Val Loss: 0.0020\n",
            "  Min F1 Score: 1.0000\n",
            "  Class F1 Scores: [1.]\n",
            "--------------------------------------------------\n"
          ]
        },
        {
          "output_type": "stream",
          "name": "stderr",
          "text": [
            "Epoch 6/15: 100%|██████████| 31/31 [00:13<00:00,  2.26it/s, Loss=0.0000, Acc=100.00%]\n"
          ]
        },
        {
          "output_type": "stream",
          "name": "stdout",
          "text": [
            "Epoch 6/15:\n",
            "  Train Loss: 0.0004\n",
            "  Val Loss: 0.0046\n",
            "  Min F1 Score: 1.0000\n",
            "  Class F1 Scores: [1.]\n",
            "--------------------------------------------------\n"
          ]
        },
        {
          "output_type": "stream",
          "name": "stderr",
          "text": [
            "Epoch 7/15: 100%|██████████| 31/31 [00:14<00:00,  2.09it/s, Loss=0.0000, Acc=100.00%]\n"
          ]
        },
        {
          "output_type": "stream",
          "name": "stdout",
          "text": [
            "Epoch 7/15:\n",
            "  Train Loss: 0.0001\n",
            "  Val Loss: 0.0023\n",
            "  Min F1 Score: 1.0000\n",
            "  Class F1 Scores: [1.]\n",
            "--------------------------------------------------\n"
          ]
        },
        {
          "output_type": "stream",
          "name": "stderr",
          "text": [
            "Epoch 8/15: 100%|██████████| 31/31 [00:14<00:00,  2.20it/s, Loss=0.0000, Acc=100.00%]\n"
          ]
        },
        {
          "output_type": "stream",
          "name": "stdout",
          "text": [
            "Epoch 8/15:\n",
            "  Train Loss: 0.0001\n",
            "  Val Loss: 0.0011\n",
            "  Min F1 Score: 1.0000\n",
            "  Class F1 Scores: [1.]\n",
            "--------------------------------------------------\n"
          ]
        },
        {
          "output_type": "stream",
          "name": "stderr",
          "text": [
            "Epoch 9/15: 100%|██████████| 31/31 [00:14<00:00,  2.14it/s, Loss=0.0000, Acc=100.00%]\n"
          ]
        },
        {
          "output_type": "stream",
          "name": "stdout",
          "text": [
            "Epoch 9/15:\n",
            "  Train Loss: 0.0000\n",
            "  Val Loss: 0.0012\n",
            "  Min F1 Score: 1.0000\n",
            "  Class F1 Scores: [1.]\n",
            "--------------------------------------------------\n"
          ]
        },
        {
          "output_type": "stream",
          "name": "stderr",
          "text": [
            "Epoch 10/15: 100%|██████████| 31/31 [00:14<00:00,  2.12it/s, Loss=0.0000, Acc=100.00%]\n"
          ]
        },
        {
          "output_type": "stream",
          "name": "stdout",
          "text": [
            "Epoch 10/15:\n",
            "  Train Loss: 0.0001\n",
            "  Val Loss: 0.0018\n",
            "  Min F1 Score: 1.0000\n",
            "  Class F1 Scores: [1.]\n",
            "--------------------------------------------------\n"
          ]
        },
        {
          "output_type": "stream",
          "name": "stderr",
          "text": [
            "Epoch 11/15: 100%|██████████| 31/31 [00:14<00:00,  2.16it/s, Loss=0.0000, Acc=100.00%]\n"
          ]
        },
        {
          "output_type": "stream",
          "name": "stdout",
          "text": [
            "Epoch 11/15:\n",
            "  Train Loss: 0.0000\n",
            "  Val Loss: 0.0004\n",
            "  Min F1 Score: 1.0000\n",
            "  Class F1 Scores: [1.]\n",
            "--------------------------------------------------\n"
          ]
        },
        {
          "output_type": "stream",
          "name": "stderr",
          "text": [
            "Epoch 12/15: 100%|██████████| 31/31 [00:14<00:00,  2.19it/s, Loss=0.0001, Acc=100.00%]\n"
          ]
        },
        {
          "output_type": "stream",
          "name": "stdout",
          "text": [
            "Epoch 12/15:\n",
            "  Train Loss: 0.0000\n",
            "  Val Loss: 0.0032\n",
            "  Min F1 Score: 1.0000\n",
            "  Class F1 Scores: [1.]\n",
            "--------------------------------------------------\n"
          ]
        },
        {
          "output_type": "stream",
          "name": "stderr",
          "text": [
            "Epoch 13/15: 100%|██████████| 31/31 [00:14<00:00,  2.19it/s, Loss=0.0014, Acc=100.00%]\n"
          ]
        },
        {
          "output_type": "stream",
          "name": "stdout",
          "text": [
            "Epoch 13/15:\n",
            "  Train Loss: 0.0001\n",
            "  Val Loss: 0.0025\n",
            "  Min F1 Score: 1.0000\n",
            "  Class F1 Scores: [1.]\n",
            "--------------------------------------------------\n"
          ]
        },
        {
          "output_type": "stream",
          "name": "stderr",
          "text": [
            "Epoch 14/15: 100%|██████████| 31/31 [00:14<00:00,  2.20it/s, Loss=0.0000, Acc=100.00%]\n"
          ]
        },
        {
          "output_type": "stream",
          "name": "stdout",
          "text": [
            "Epoch 14/15:\n",
            "  Train Loss: 0.0000\n",
            "  Val Loss: 0.0005\n",
            "  Min F1 Score: 1.0000\n",
            "  Class F1 Scores: [1.]\n",
            "--------------------------------------------------\n"
          ]
        },
        {
          "output_type": "stream",
          "name": "stderr",
          "text": [
            "Epoch 15/15: 100%|██████████| 31/31 [00:14<00:00,  2.20it/s, Loss=0.0000, Acc=100.00%]\n"
          ]
        },
        {
          "output_type": "stream",
          "name": "stdout",
          "text": [
            "Epoch 15/15:\n",
            "  Train Loss: 0.0000\n",
            "  Val Loss: 0.0009\n",
            "  Min F1 Score: 1.0000\n",
            "  Class F1 Scores: [1.]\n",
            "--------------------------------------------------\n",
            "Best minimum F1 score: 1.0000\n"
          ]
        },
        {
          "output_type": "display_data",
          "data": {
            "text/plain": [
              "<Figure size 1500x500 with 2 Axes>"
            ],
            "image/png": "[encoded data removed]"
          },
          "metadata": {}
        },
        {
          "output_type": "stream",
          "name": "stderr",
          "text": [
            "Evaluating: 100%|██████████| 8/8 [00:03<00:00,  2.33it/s]\n"
          ]
        },
        {
          "output_type": "stream",
          "name": "stdout",
          "text": [
            "WARNING: Evaluation data contains fewer classes than expected. F1 scores for missing classes will be 0.\n",
            "\n",
            "Detailed Evaluation Results:\n",
            "==================================================\n",
            "Minimum F1 Score (Competition Metric): 0.0000\n",
            "\n",
            "Per-class F1 Scores:\n",
            "  Alluvial soil: 0.0000\n",
            "  Black Soil: 1.0000\n",
            "  Clay soil: 0.0000\n",
            "  Red soil: 0.0000\n",
            "\n",
            "Classification Report:\n",
            "               precision    recall  f1-score   support\n",
            "\n",
            "Alluvial soil       1.00      1.00      1.00       245\n",
            "\n",
            "     accuracy                           1.00       245\n",
            "    macro avg       1.00      1.00      1.00       245\n",
            " weighted avg       1.00      1.00      1.00       245\n",
            "\n"
          ]
        },
        {
          "output_type": "display_data",
          "data": {
            "text/plain": [
              "<Figure size 1000x800 with 2 Axes>"
            ],
            "image/png": "[encoded data removed]"
          },
          "metadata": {}
        },
        {
          "output_type": "stream",
          "name": "stdout",
          "text": [
            "Generating predictions for test set...\n"
          ]
        },
        {
          "output_type": "stream",
          "name": "stderr",
          "text": [
            "Predicting: 100%|██████████| 31/31 [00:04<00:00,  7.03it/s]"
          ]
        },
        {
          "output_type": "stream",
          "name": "stdout",
          "text": [
            "Submission file saved as 'submission.csv'\n",
            "\n",
            "Solution completed successfully!\n",
            "Files generated:\n",
            "- submission.csv: Final predictions for submission\n"
          ]
        },
        {
          "output_type": "stream",
          "name": "stderr",
          "text": [
            "\n"
          ]
        }
      ],
      "source": [
        "# Set random seeds for reproducibility\n",
        "np.random.seed(42)\n",
        "torch.manual_seed(42)\n",
        "if torch.cuda.is_available():\n",
        "    torch.cuda.manual_seed(42)\n",
        "\n",
        "# Configuration\n",
        "class Config:\n",
        "\n",
        "    # Paths\n",
        "    TRAIN_DIR = '/content/drive/MyDrive/DataSet/soil_competition-2025/train'\n",
        "    TEST_DIR = '/content/drive/MyDrive/DataSet/soil_competition-2025/test'\n",
        "    TRAIN_LABELS_FILE = '/content/drive/MyDrive/DataSet/soil_competition-2025/train_labels.csv'\n",
        "    TEST_IDS_FILE = '/content/drive/MyDrive/DataSet/soil_competition-2025/test_ids.csv'\n",
        "\n",
        "    # Model parameters\n",
        "    IMG_SIZE = 224\n",
        "    BATCH_SIZE = 32\n",
        "    EPOCHS = 15\n",
        "    LEARNING_RATE = 0.001\n",
        "    WEIGHT_DECAY = 1e-4\n",
        "\n",
        "    # Class mapping\n",
        "    CLASS_NAMES = ['Alluvial soil', 'Black Soil', 'Clay soil', 'Red soil']\n",
        "    NUM_CLASSES = len(CLASS_NAMES)\n",
        "\n",
        "    # Device configuration\n",
        "    DEVICE = torch.device('cuda' if torch.cuda.is_available() else 'cpu')\n",
        "\n",
        "config = Config()\n",
        "\n",
        "class SoilDataset(Dataset):\n",
        "\n",
        "    def __init__(self, image_paths, labels=None, transform=None):\n",
        "        self.image_paths = image_paths\n",
        "        self.labels = labels\n",
        "        self.transform = transform\n",
        "\n",
        "    def __len__(self):\n",
        "        return len(self.image_paths)\n",
        "\n",
        "    def __getitem__(self, idx):\n",
        "        # Load image\n",
        "        img_path = self.image_paths[idx]\n",
        "        image = Image.open(img_path).convert('RGB')\n",
        "\n",
        "        # Apply transformations\n",
        "        if self.transform:\n",
        "            image = self.transform(image)\n",
        "\n",
        "        if self.labels is not None:\n",
        "            label = self.labels[idx]\n",
        "            return image, label\n",
        "        else:\n",
        "            return image\n",
        "\n",
        "def load_and_prepare_data():\n",
        "\n",
        "    print(\"Loading and preparing data...\")\n",
        "\n",
        "    # Load training labels\n",
        "    train_df = pd.read_csv(config.TRAIN_LABELS_FILE)\n",
        "    test_df = pd.read_csv(config.TEST_IDS_FILE)\n",
        "\n",
        "    # Create class to index mapping (optional, for consistency with class names)\n",
        "    class_to_idx = {class_name: idx for idx, class_name in enumerate(config.CLASS_NAMES)}\n",
        "\n",
        "    # Add full image paths\n",
        "    train_df['image_path'] = train_df['image_id'].apply(\n",
        "        lambda x: os.path.join(config.TRAIN_DIR, x)\n",
        "    )\n",
        "    test_df['image_path'] = test_df['image_id'].apply(\n",
        "        lambda x: os.path.join(config.TEST_DIR, x)\n",
        "    )\n",
        "\n",
        "    # Use the numeric 'label' column directly as label_idx\n",
        "    train_df['label_idx'] = train_df['label']\n",
        "\n",
        "    # Verify that labels are in the expected range\n",
        "    unique_labels = train_df['label'].unique()\n",
        "    expected_labels = set(range(config.NUM_CLASSES))\n",
        "    if not set(unique_labels).issubset(expected_labels):\n",
        "        raise ValueError(f\"Labels in dataset {unique_labels} do not match expected range {expected_labels}\")\n",
        "\n",
        "    # Warn about missing classes\n",
        "    missing_classes = expected_labels - set(unique_labels)\n",
        "    if missing_classes:\n",
        "        missing_class_names = [config.CLASS_NAMES[idx] for idx in missing_classes]\n",
        "        print(f\"WARNING: The following classes are missing in the training data: {missing_class_names}\")\n",
        "        print(\"This may cause poor generalization to missing classes.\")\n",
        "\n",
        "    print(f\"Training samples: {len(train_df)}\")\n",
        "    print(f\"Test samples: {len(test_df)}\")\n",
        "    print(\"\\nClass distribution:\")\n",
        "    # Map numeric labels to class names for display\n",
        "    label_counts = train_df['label'].value_counts().sort_index()\n",
        "    for idx in range(config.NUM_CLASSES):\n",
        "        class_name = config.CLASS_NAMES[idx]\n",
        "        count = label_counts.get(idx, 0)\n",
        "        print(f\"  {class_name} (Label {idx}): {count}\")\n",
        "\n",
        "    return train_df, test_df, class_to_idx\n",
        "def get_transforms():\n",
        "\n",
        "    # Training transformations with augmentation\n",
        "    train_transform = transforms.Compose([\n",
        "        transforms.Resize((config.IMG_SIZE, config.IMG_SIZE)),\n",
        "        transforms.RandomHorizontalFlip(p=0.5),\n",
        "        transforms.RandomVerticalFlip(p=0.3),\n",
        "        transforms.RandomRotation(degrees=15),\n",
        "        transforms.ColorJitter(brightness=0.2, contrast=0.2, saturation=0.2, hue=0.1),\n",
        "        transforms.RandomAffine(degrees=0, translate=(0.1, 0.1)),\n",
        "        transforms.ToTensor(),\n",
        "        transforms.Normalize(mean=[0.485, 0.456, 0.406],\n",
        "                           std=[0.229, 0.224, 0.225])\n",
        "    ])\n",
        "\n",
        "    # Validation/Test transformations (no augmentation)\n",
        "    val_transform = transforms.Compose([\n",
        "        transforms.Resize((config.IMG_SIZE, config.IMG_SIZE)),\n",
        "        transforms.ToTensor(),\n",
        "        transforms.Normalize(mean=[0.485, 0.456, 0.406],\n",
        "                           std=[0.229, 0.224, 0.225])\n",
        "    ])\n",
        "\n",
        "    return train_transform, val_transform\n",
        "\n",
        "class SoilClassifier(nn.Module):\n",
        "\n",
        "    def __init__(self, num_classes=4, dropout_rate=0.3):\n",
        "        super(SoilClassifier, self).__init__()\n",
        "\n",
        "        # Load pre-trained EfficientNetB0\n",
        "        self.backbone = models.efficientnet_b0(pretrained=True)\n",
        "\n",
        "        # Freeze early layers for transfer learning\n",
        "        for param in list(self.backbone.parameters())[:-10]:\n",
        "            param.requires_grad = False\n",
        "\n",
        "        # Replace classifier head\n",
        "        num_features = self.backbone.classifier[1].in_features\n",
        "        self.backbone.classifier = nn.Sequential(\n",
        "            nn.Dropout(dropout_rate),\n",
        "            nn.Linear(num_features, 512),\n",
        "            nn.ReLU(),\n",
        "            nn.Dropout(dropout_rate),\n",
        "            nn.Linear(512, num_classes)\n",
        "        )\n",
        "\n",
        "    def forward(self, x):\n",
        "        return self.backbone(x)\n",
        "\n",
        "def create_weighted_sampler(labels):\n",
        "    class_counts = np.bincount(labels)\n",
        "    class_weights = 1.0 / class_counts\n",
        "    sample_weights = [class_weights[label] for label in labels]\n",
        "\n",
        "    return WeightedRandomSampler(\n",
        "        weights=sample_weights,\n",
        "        num_samples=len(sample_weights),\n",
        "        replacement=True\n",
        "    )\n",
        "\n",
        "def train_model(model, train_loader, val_loader, criterion, optimizer, scheduler, num_epochs):\n",
        "    print(\"Starting model training...\")\n",
        "\n",
        "    history = {'train_loss': [], 'val_loss': [], 'val_f1': []}\n",
        "    best_f1 = 0.0\n",
        "    best_model_state = None\n",
        "\n",
        "    for epoch in range(num_epochs):\n",
        "        # Training phase\n",
        "        model.train()\n",
        "        train_loss = 0.0\n",
        "        train_correct = 0\n",
        "        train_total = 0\n",
        "\n",
        "        pbar = tqdm(train_loader, desc=f'Epoch {epoch+1}/{num_epochs}')\n",
        "        for images, labels in pbar:\n",
        "            images, labels = images.to(config.DEVICE), labels.to(config.DEVICE)\n",
        "\n",
        "            optimizer.zero_grad()\n",
        "            outputs = model(images)\n",
        "            loss = criterion(outputs, labels)\n",
        "            loss.backward()\n",
        "            optimizer.step()\n",
        "\n",
        "            train_loss += loss.item()\n",
        "            _, predicted = torch.max(outputs.data, 1)\n",
        "            train_total += labels.size(0)\n",
        "            train_correct += (predicted == labels).sum().item()\n",
        "\n",
        "            pbar.set_postfix({\n",
        "                'Loss': f'{loss.item():.4f}',\n",
        "                'Acc': f'{100.*train_correct/train_total:.2f}%'\n",
        "            })\n",
        "\n",
        "        # Validation phase\n",
        "        model.eval()\n",
        "        val_loss = 0.0\n",
        "        val_predictions = []\n",
        "        val_targets = []\n",
        "\n",
        "        with torch.no_grad():\n",
        "            for images, labels in val_loader:\n",
        "                images, labels = images.to(config.DEVICE), labels.to(config.DEVICE)\n",
        "                outputs = model(images)\n",
        "                loss = criterion(outputs, labels)\n",
        "\n",
        "                val_loss += loss.item()\n",
        "                _, predicted = torch.max(outputs, 1)\n",
        "                val_predictions.extend(predicted.cpu().numpy())\n",
        "                val_targets.extend(labels.cpu().numpy())\n",
        "\n",
        "        # Calculate metrics\n",
        "        avg_train_loss = train_loss / len(train_loader)\n",
        "        avg_val_loss = val_loss / len(val_loader)\n",
        "\n",
        "        # Calculate F1 scores for each class\n",
        "        f1_scores = f1_score(val_targets, val_predictions, average=None)\n",
        "        min_f1 = np.min(f1_scores)\n",
        "\n",
        "        history['train_loss'].append(avg_train_loss)\n",
        "        history['val_loss'].append(avg_val_loss)\n",
        "        history['val_f1'].append(min_f1)\n",
        "\n",
        "        # Save best model based on minimum F1 score\n",
        "        if min_f1 > best_f1:\n",
        "            best_f1 = min_f1\n",
        "            best_model_state = model.state_dict().copy()\n",
        "\n",
        "        scheduler.step()\n",
        "\n",
        "        print(f'Epoch {epoch+1}/{num_epochs}:')\n",
        "        print(f'  Train Loss: {avg_train_loss:.4f}')\n",
        "        print(f'  Val Loss: {avg_val_loss:.4f}')\n",
        "        print(f'  Min F1 Score: {min_f1:.4f}')\n",
        "        print(f'  Class F1 Scores: {f1_scores}')\n",
        "        print('-' * 50)\n",
        "\n",
        "    # Load best model\n",
        "    model.load_state_dict(best_model_state)\n",
        "    print(f'Best minimum F1 score: {best_f1:.4f}')\n",
        "\n",
        "    return model, history\n",
        "\n",
        "def evaluate_model(model, data_loader, class_names):\n",
        "    model.eval()\n",
        "    predictions = []\n",
        "    targets = []\n",
        "\n",
        "    with torch.no_grad():\n",
        "        for images, labels in tqdm(data_loader, desc='Evaluating'):\n",
        "            images = images.to(config.DEVICE)\n",
        "            outputs = model(images)\n",
        "            _, predicted = torch.max(outputs, 1)\n",
        "            predictions.extend(predicted.cpu().numpy())\n",
        "            targets.extend(labels.cpu().numpy())\n",
        "\n",
        "    # Calculate detailed metrics\n",
        "    unique_targets = np.unique(targets)\n",
        "    if len(unique_targets) < len(class_names):\n",
        "        print(\"WARNING: Evaluation data contains fewer classes than expected. F1 scores for missing classes will be 0.\")\n",
        "\n",
        "    # Calculate F1 scores, handling missing classes\n",
        "    f1_scores = np.zeros(len(class_names))\n",
        "    if unique_targets.size > 0:\n",
        "        computed_f1 = f1_score(targets, predictions, average=None, labels=unique_targets)\n",
        "        for idx, label in enumerate(unique_targets):\n",
        "            f1_scores[label] = computed_f1[idx]\n",
        "    min_f1 = np.min(f1_scores)\n",
        "\n",
        "    print(\"\\nDetailed Evaluation Results:\")\n",
        "    print(\"=\" * 50)\n",
        "    print(f\"Minimum F1 Score (Competition Metric): {min_f1:.4f}\")\n",
        "    print(\"\\nPer-class F1 Scores:\")\n",
        "    for i, (class_name, f1) in enumerate(zip(class_names, f1_scores)):\n",
        "        print(f\"  {class_name}: {f1:.4f}\")\n",
        "\n",
        "    print(\"\\nClassification Report:\")\n",
        "    print(classification_report(targets, predictions, target_names=class_names, labels=unique_targets, zero_division=0))\n",
        "\n",
        "    # Plot confusion matrix\n",
        "    cm = confusion_matrix(targets, predictions, labels=range(len(class_names)))\n",
        "    plt.figure(figsize=(10, 8))\n",
        "    sns.heatmap(cm, annot=True, fmt='d', cmap='Blues',\n",
        "                xticklabels=class_names, yticklabels=class_names)\n",
        "    plt.title('Confusion Matrix')\n",
        "    plt.ylabel('True Label')\n",
        "    plt.xlabel('Predicted Label')\n",
        "    plt.tight_layout()\n",
        "    plt.show()\n",
        "\n",
        "    return predictions, targets, f1_scores\n",
        "\n",
        "def generate_predictions(model, test_loader, test_df, class_names):\n",
        "    print(\"Generating predictions for test set...\")\n",
        "\n",
        "    model.eval()\n",
        "    predictions = []\n",
        "\n",
        "    with torch.no_grad():\n",
        "        for images in tqdm(test_loader, desc='Predicting'):\n",
        "            images = images.to(config.DEVICE)\n",
        "            outputs = model(images)\n",
        "            _, predicted = torch.max(outputs, 1)\n",
        "            predictions.extend(predicted.cpu().numpy())\n",
        "\n",
        "    # Convert predictions to class names\n",
        "    predicted_classes = [class_names[pred] for pred in predictions]\n",
        "\n",
        "    # Create submission dataframe\n",
        "    submission_df = pd.DataFrame({\n",
        "        'image_id': test_df['image_id'],\n",
        "        'soil_type': predicted_classes\n",
        "    })\n",
        "\n",
        "    # Save submission file\n",
        "    submission_df.to_csv('submission.csv', index=False)\n",
        "    print(\"Submission file saved as 'submission.csv'\")\n",
        "\n",
        "    return submission_df\n",
        "\n",
        "def plot_training_history(history):\n",
        "    fig, (ax1, ax2) = plt.subplots(1, 2, figsize=(15, 5))\n",
        "\n",
        "    # Plot loss\n",
        "    ax1.plot(history['train_loss'], label='Training Loss')\n",
        "    ax1.plot(history['val_loss'], label='Validation Loss')\n",
        "    ax1.set_title('Model Loss')\n",
        "    ax1.set_xlabel('Epoch')\n",
        "    ax1.set_ylabel('Loss')\n",
        "    ax1.legend()\n",
        "    ax1.grid(True)\n",
        "\n",
        "    # Plot F1 score\n",
        "    ax2.plot(history['val_f1'], label='Minimum F1 Score', color='green')\n",
        "    ax2.set_title('Validation F1 Score')\n",
        "    ax2.set_xlabel('Epoch')\n",
        "    ax2.set_ylabel('F1 Score')\n",
        "    ax2.legend()\n",
        "    ax2.grid(True)\n",
        "\n",
        "    plt.tight_layout()\n",
        "    plt.show()\n",
        "\n",
        "def main():\n",
        "    print(\"Soil Classification Challenge - Solution\")\n",
        "    print(\"=\" * 50)\n",
        "    print(f\"Using device: {config.DEVICE}\")\n",
        "\n",
        "    # Load and prepare data\n",
        "    train_df, test_df, class_to_idx = load_and_prepare_data()\n",
        "\n",
        "    # Split training data into train and validation\n",
        "    train_data, val_data = train_test_split(\n",
        "        train_df,\n",
        "        test_size=0.2,\n",
        "        stratify=train_df['label_idx'],\n",
        "        random_state=42\n",
        "    )\n",
        "\n",
        "    print(f\"\\nTrain set size: {len(train_data)}\")\n",
        "    print(f\"Validation set size: {len(val_data)}\")\n",
        "\n",
        "    # Get transforms\n",
        "    train_transform, val_transform = get_transforms()\n",
        "\n",
        "    # Create datasets\n",
        "    train_dataset = SoilDataset(\n",
        "        train_data['image_path'].tolist(),\n",
        "        train_data['label_idx'].tolist(),\n",
        "        train_transform\n",
        "    )\n",
        "\n",
        "    val_dataset = SoilDataset(\n",
        "        val_data['image_path'].tolist(),\n",
        "        val_data['label_idx'].tolist(),\n",
        "        val_transform\n",
        "    )\n",
        "\n",
        "    test_dataset = SoilDataset(\n",
        "        test_df['image_path'].tolist(),\n",
        "        None,\n",
        "        val_transform\n",
        "    )\n",
        "\n",
        "    # Create weighted sampler for balanced training\n",
        "    sampler = create_weighted_sampler(train_data['label_idx'].tolist())\n",
        "\n",
        "    # Create data loaders\n",
        "    train_loader = DataLoader(\n",
        "        train_dataset,\n",
        "        batch_size=config.BATCH_SIZE,\n",
        "        sampler=sampler,\n",
        "        num_workers=4 if config.DEVICE.type == 'cuda' else 0\n",
        "    )\n",
        "\n",
        "    val_loader = DataLoader(\n",
        "        val_dataset,\n",
        "        batch_size=config.BATCH_SIZE,\n",
        "        shuffle=False,\n",
        "        num_workers=4 if config.DEVICE.type == 'cuda' else 0\n",
        "    )\n",
        "\n",
        "    test_loader = DataLoader(\n",
        "        test_dataset,\n",
        "        batch_size=config.BATCH_SIZE,\n",
        "        shuffle=False,\n",
        "        num_workers=4 if config.DEVICE.type == 'cuda' else 0\n",
        "    )\n",
        "\n",
        "    # Initialize model\n",
        "    model = SoilClassifier(num_classes=config.NUM_CLASSES)\n",
        "    model = model.to(config.DEVICE)\n",
        "\n",
        "    # Calculate class weights for loss function\n",
        "    unique_labels = np.unique(train_data['label_idx'])\n",
        "    class_weights = np.ones(config.NUM_CLASSES)  # Default weight of 1.0 for all classes\n",
        "    if len(unique_labels) < config.NUM_CLASSES:\n",
        "        print(\"WARNING: Not all classes are present in the training data. Assigning default weights for missing classes.\")\n",
        "    # Compute weights only for present classes\n",
        "    weights = compute_class_weight(\n",
        "        'balanced',\n",
        "        classes=unique_labels,\n",
        "        y=train_data['label_idx']\n",
        "    )\n",
        "    # Assign computed weights to corresponding classes\n",
        "    for idx, label in enumerate(unique_labels):\n",
        "        class_weights[label] = weights[idx]\n",
        "\n",
        "    class_weights = torch.FloatTensor(class_weights).to(config.DEVICE)\n",
        "\n",
        "    # Define loss function and optimizer\n",
        "    criterion = nn.CrossEntropyLoss(weight=class_weights)\n",
        "    optimizer = optim.AdamW(model.parameters(),\n",
        "                           lr=config.LEARNING_RATE,\n",
        "                           weight_decay=config.WEIGHT_DECAY)\n",
        "    scheduler = optim.lr_scheduler.CosineAnnealingLR(optimizer, T_max=config.EPOCHS)\n",
        "\n",
        "    # Train model\n",
        "    model, history = train_model(\n",
        "        model, train_loader, val_loader,\n",
        "        criterion, optimizer, scheduler, config.EPOCHS\n",
        "    )\n",
        "\n",
        "    # Plot training history\n",
        "    plot_training_history(history)\n",
        "\n",
        "    # Evaluate model\n",
        "    predictions, targets, f1_scores = evaluate_model(model, val_loader, config.CLASS_NAMES)\n",
        "\n",
        "    # Generate test predictions\n",
        "    submission_df = generate_predictions(model, test_loader, test_df, config.CLASS_NAMES)\n",
        "\n",
        "    print(\"\\nSolution completed successfully!\")\n",
        "    print(\"Files generated:\")\n",
        "    print(\"- submission.csv: Final predictions for submission\")\n",
        "\n",
        "    return model, submission_df\n",
        "if __name__ == \"__main__\":\n",
        "    # Execute the main solution\n",
        "    model, submission = main()"
      ]
    },
    {
      "cell_type": "code",
      "source": [],
      "metadata": {
        "id": "ok-iLpq0r5XS"
      },
      "execution_count": null,
      "outputs": []
    }
  ]
}